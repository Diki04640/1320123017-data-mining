{
  "nbformat": 4,
  "nbformat_minor": 0,
  "metadata": {
    "colab": {
      "provenance": [],
      "authorship_tag": "ABX9TyMIneOD2+129lkROJBhn5kR",
      "include_colab_link": true
    },
    "kernelspec": {
      "name": "python3",
      "display_name": "Python 3"
    },
    "language_info": {
      "name": "python"
    }
  },
  "cells": [
    {
      "cell_type": "markdown",
      "metadata": {
        "id": "view-in-github",
        "colab_type": "text"
      },
      "source": [
        "<a href=\"https://colab.research.google.com/github/Diki04640/1320123017-data-mining/blob/main/Setup_Envireonment_Demo.ipynb\" target=\"_parent\"><img src=\"https://colab.research.google.com/assets/colab-badge.svg\" alt=\"Open In Colab\"/></a>"
      ]
    },
    {
      "cell_type": "code",
      "execution_count": 2,
      "metadata": {
        "colab": {
          "base_uri": "https://localhost:8080/"
        },
        "id": "QaQxglTwseDO",
        "outputId": "49370103-500c-4746-9616-8b314d75d67c"
      },
      "outputs": [
        {
          "output_type": "stream",
          "name": "stdout",
          "text": [
            "fatal: destination path '1320123017-data-mining' already exists and is not an empty directory.\n",
            "Hello, Data Mining!\n",
            "Versi Pandas yang terinstall: 2.2.2\n"
          ]
        }
      ],
      "source": [
        "!git clone https://github.com/Diki04640/1320123017-data-mining.git\n",
        "print(\"Hello, Data Mining!\")\n",
        "\n",
        "import pandas as pd\n",
        "print(\"Versi Pandas yang terinstall:\", pd.__version__)"
      ]
    }
  ]
}